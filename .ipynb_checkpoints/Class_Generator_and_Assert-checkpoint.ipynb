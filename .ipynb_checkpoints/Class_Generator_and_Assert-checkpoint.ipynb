{
 "cells": [
  {
   "cell_type": "markdown",
   "metadata": {},
   "source": [
    "# Optional Activity\n",
    "#### Make a dice roller\n",
    "Make a function that takes as input a integer for how many sides the dice has (e.g. a normal dice has 6 sides so input should be 6)\n",
    "output should be an integer between 1 and the number of sides entered (so for input 6, 1-6) \n",
    "ideally this roller should be fair, so each number has equal probability, but that isn't neccesary\n",
    "For extra add an assert statement to make sure input is an integer"
   ]
  },
  {
   "cell_type": "markdown",
   "metadata": {},
   "source": [
    "# Python Style\n",
    "Pep8:  \n",
    "Check it out\n",
    "https://www.python.org/dev/peps/pep-0008/ "
   ]
  },
  {
   "cell_type": "markdown",
   "metadata": {},
   "source": [
    "# A bit more on Classes and Inheritance"
   ]
  },
  {
   "cell_type": "code",
   "execution_count": 124,
   "metadata": {},
   "outputs": [],
   "source": [
    "class Person(): \n",
    "       \n",
    "    # Constructor \n",
    "    def __init__(self, name, pronoun, food, location, pet = None): \n",
    "        self.name = name \n",
    "        self.pronoun = pronoun\n",
    "        self.food = food\n",
    "        self.location = location\n",
    "        self.pet = pet\n",
    "    \n",
    "    def __repr__(self):\n",
    "        '''\n",
    "        Representation of the class\n",
    "        '''  \n",
    "        string = \"This is {}, {} favorite food is {} and {} lives in {}\".format(self.name, self.pronoun[1], self.food, self.pronoun[0], self.location)\n",
    "        return string\n",
    "   \n",
    "    def calc_rent(self, base_rent, location, pet_fee):\n",
    "        total_cost = base_rent\n",
    "        total_cost += location\n",
    "        if self.pet:\n",
    "            total_cost += pet_fee \n",
    "        return total_cost\n",
    "\n"
   ]
  },
  {
   "cell_type": "code",
   "execution_count": 125,
   "metadata": {},
   "outputs": [
    {
     "data": {
      "text/plain": [
       "This is Kim, her favorite food is pasta and she lives in LA"
      ]
     },
     "execution_count": 125,
     "metadata": {},
     "output_type": "execute_result"
    }
   ],
   "source": [
    "person1 = Person('Kim', ['she','her'], 'pasta', 'LA')  # An Object of Person \n",
    "person1"
   ]
  },
  {
   "cell_type": "code",
   "execution_count": 127,
   "metadata": {},
   "outputs": [
    {
     "data": {
      "text/plain": [
       "1750"
      ]
     },
     "execution_count": 127,
     "metadata": {},
     "output_type": "execute_result"
    }
   ],
   "source": [
    "person1.calc_rent(1000,750,100)"
   ]
  },
  {
   "cell_type": "code",
   "execution_count": 128,
   "metadata": {},
   "outputs": [
    {
     "data": {
      "text/plain": [
       "This is Kelly, his favorite food is guacamole and he lives in DC"
      ]
     },
     "execution_count": 128,
     "metadata": {},
     "output_type": "execute_result"
    }
   ],
   "source": [
    "person2 = Person('Kelly', ['he','his'], 'guacamole', 'DC', 'cat')\n",
    "person2"
   ]
  },
  {
   "cell_type": "code",
   "execution_count": 129,
   "metadata": {},
   "outputs": [
    {
     "data": {
      "text/plain": [
       "1550"
      ]
     },
     "execution_count": 129,
     "metadata": {},
     "output_type": "execute_result"
    }
   ],
   "source": [
    "person2.calc_rent(1000,500,50)"
   ]
  },
  {
   "cell_type": "code",
   "execution_count": 130,
   "metadata": {},
   "outputs": [],
   "source": [
    " class Employee(Person): \n",
    "    def __init__(self, name, pronoun, food, location, emp_status, pet = None): \n",
    "        self.name = name \n",
    "        self.pronoun = pronoun\n",
    "        self.food = food\n",
    "        self.location = location\n",
    "        self.emp_status = emp_status\n",
    "        self.pet = pet\n",
    "        \n",
    "    def __repr__(self):\n",
    "        '''\n",
    "        Representation of the class\n",
    "        '''  \n",
    "        string = \"{} is {} with this firm\".format(self.name, self.emp_status)\n",
    "        return string\n",
    " \n",
    "    def calc_salary(self, base, bonus): \n",
    "        salary = base\n",
    "        salary += bonus\n",
    "        return salary\n",
    "   "
   ]
  },
  {
   "cell_type": "code",
   "execution_count": 131,
   "metadata": {},
   "outputs": [
    {
     "data": {
      "text/plain": [
       "Kim is employed with this firm"
      ]
     },
     "execution_count": 131,
     "metadata": {},
     "output_type": "execute_result"
    }
   ],
   "source": [
    "emp1 = Employee('Kim', ['she','her'], 'pasta', 'LA', 'employed') # An Object of Employee \n",
    "emp1"
   ]
  },
  {
   "cell_type": "code",
   "execution_count": 132,
   "metadata": {},
   "outputs": [
    {
     "data": {
      "text/plain": [
       "80500"
      ]
     },
     "execution_count": 132,
     "metadata": {},
     "output_type": "execute_result"
    }
   ],
   "source": [
    "emp1.calc_salary(80000,500)"
   ]
  },
  {
   "cell_type": "code",
   "execution_count": 133,
   "metadata": {},
   "outputs": [
    {
     "data": {
      "text/plain": [
       "1010"
      ]
     },
     "execution_count": 133,
     "metadata": {},
     "output_type": "execute_result"
    }
   ],
   "source": [
    "emp1.calc_rent(1000,10,10)"
   ]
  },
  {
   "cell_type": "code",
   "execution_count": 134,
   "metadata": {},
   "outputs": [
    {
     "data": {
      "text/plain": [
       "68380"
      ]
     },
     "execution_count": 134,
     "metadata": {},
     "output_type": "execute_result"
    }
   ],
   "source": [
    "#what's left:\n",
    "salary = emp1.calc_salary(80000,500)\n",
    "rent = emp1.calc_rent(1000,10,10) *12\n",
    "\n",
    "salary - rent"
   ]
  },
  {
   "cell_type": "markdown",
   "metadata": {},
   "source": [
    "# Generator\n",
    "\n",
    "Super interested? Check out a more throughout explanation here:\n",
    "https://www.dataquest.io/blog/python-generators-tutorial/ \n",
    "\n",
    "The data is from the Chicago Health Atlas\n",
    "https://www.chicagohealthatlas.org/indicators/college-graduation-or-more"
   ]
  },
  {
   "cell_type": "code",
   "execution_count": 141,
   "metadata": {},
   "outputs": [],
   "source": [
    "#Code\n",
    "import pandas as pd\n",
    "import os\n",
    "\n",
    "PATH = '/Users/Sarah/Documents/GitHub/Programming_Lab_4-28-20/'\n",
    "FILE = 'city_wide_coll_grad_2017.csv'\n",
    "\n",
    "def read_data(path, filename):\n",
    "    if filename.endswith('.csv'):\n",
    "        df = pd.read_csv(os.path.join(path, filename))\n",
    "    elif filename.endswith('.xls') or filename.endswith('.xlsx'):\n",
    "        df = pd.read_excel(os.path.join(path, filename))\n",
    "    else:\n",
    "        print('unexpected file type in read_data')\n",
    "    return df\n",
    "\n",
    "\n",
    "df = read_data(PATH, FILE)"
   ]
  },
  {
   "cell_type": "code",
   "execution_count": 142,
   "metadata": {},
   "outputs": [
    {
     "data": {
      "text/html": [
       "<div>\n",
       "<style scoped>\n",
       "    .dataframe tbody tr th:only-of-type {\n",
       "        vertical-align: middle;\n",
       "    }\n",
       "\n",
       "    .dataframe tbody tr th {\n",
       "        vertical-align: top;\n",
       "    }\n",
       "\n",
       "    .dataframe thead th {\n",
       "        text-align: right;\n",
       "    }\n",
       "</style>\n",
       "<table border=\"1\" class=\"dataframe\">\n",
       "  <thead>\n",
       "    <tr style=\"text-align: right;\">\n",
       "      <th></th>\n",
       "      <th>Unnamed: 0</th>\n",
       "      <th>Category</th>\n",
       "      <th>SubCategory</th>\n",
       "      <th>Indicator</th>\n",
       "      <th>Year</th>\n",
       "      <th>Geography</th>\n",
       "      <th>Geo_Group</th>\n",
       "      <th>Geo_ID</th>\n",
       "      <th>Demography</th>\n",
       "      <th>Demo_Group</th>\n",
       "      <th>...</th>\n",
       "      <th>Percent</th>\n",
       "      <th>Lower_95CI_Percent</th>\n",
       "      <th>Upper_95CI_Percent</th>\n",
       "      <th>Weight_Number</th>\n",
       "      <th>Weight_Percent</th>\n",
       "      <th>Lower_95CI_Weight_Percent</th>\n",
       "      <th>Upper_95CI_Weight_Percent</th>\n",
       "      <th>Map_Key</th>\n",
       "      <th>Flag</th>\n",
       "      <th>Crude_Rate_Standardized</th>\n",
       "    </tr>\n",
       "  </thead>\n",
       "  <tbody>\n",
       "    <tr>\n",
       "      <th>0</th>\n",
       "      <td>0</td>\n",
       "      <td>Social and Economic Factors</td>\n",
       "      <td>Education</td>\n",
       "      <td>College graduation or more</td>\n",
       "      <td>2017</td>\n",
       "      <td>City</td>\n",
       "      <td>Chicago</td>\n",
       "      <td>606</td>\n",
       "      <td>Race-ethnicity</td>\n",
       "      <td>All race-ethnicities</td>\n",
       "      <td>...</td>\n",
       "      <td>38.8</td>\n",
       "      <td>NaN</td>\n",
       "      <td>NaN</td>\n",
       "      <td>NaN</td>\n",
       "      <td>NaN</td>\n",
       "      <td>NaN</td>\n",
       "      <td>NaN</td>\n",
       "      <td>NaN</td>\n",
       "      <td>G</td>\n",
       "      <td>NaN</td>\n",
       "    </tr>\n",
       "    <tr>\n",
       "      <th>1</th>\n",
       "      <td>1</td>\n",
       "      <td>Social and Economic Factors</td>\n",
       "      <td>Education</td>\n",
       "      <td>College graduation or more</td>\n",
       "      <td>2017</td>\n",
       "      <td>City</td>\n",
       "      <td>Chicago</td>\n",
       "      <td>606</td>\n",
       "      <td>Gender</td>\n",
       "      <td>Male</td>\n",
       "      <td>...</td>\n",
       "      <td>37.6</td>\n",
       "      <td>NaN</td>\n",
       "      <td>NaN</td>\n",
       "      <td>NaN</td>\n",
       "      <td>NaN</td>\n",
       "      <td>NaN</td>\n",
       "      <td>NaN</td>\n",
       "      <td>NaN</td>\n",
       "      <td>G</td>\n",
       "      <td>NaN</td>\n",
       "    </tr>\n",
       "    <tr>\n",
       "      <th>2</th>\n",
       "      <td>2</td>\n",
       "      <td>Social and Economic Factors</td>\n",
       "      <td>Education</td>\n",
       "      <td>College graduation or more</td>\n",
       "      <td>2017</td>\n",
       "      <td>City</td>\n",
       "      <td>Chicago</td>\n",
       "      <td>606</td>\n",
       "      <td>Gender</td>\n",
       "      <td>Female</td>\n",
       "      <td>...</td>\n",
       "      <td>39.9</td>\n",
       "      <td>NaN</td>\n",
       "      <td>NaN</td>\n",
       "      <td>NaN</td>\n",
       "      <td>NaN</td>\n",
       "      <td>NaN</td>\n",
       "      <td>NaN</td>\n",
       "      <td>NaN</td>\n",
       "      <td>G</td>\n",
       "      <td>NaN</td>\n",
       "    </tr>\n",
       "    <tr>\n",
       "      <th>3</th>\n",
       "      <td>3</td>\n",
       "      <td>Social and Economic Factors</td>\n",
       "      <td>Education</td>\n",
       "      <td>College graduation or more</td>\n",
       "      <td>2017</td>\n",
       "      <td>City</td>\n",
       "      <td>Chicago</td>\n",
       "      <td>606</td>\n",
       "      <td>Race-ethnicity</td>\n",
       "      <td>African American or Black</td>\n",
       "      <td>...</td>\n",
       "      <td>21.1</td>\n",
       "      <td>NaN</td>\n",
       "      <td>NaN</td>\n",
       "      <td>NaN</td>\n",
       "      <td>NaN</td>\n",
       "      <td>NaN</td>\n",
       "      <td>NaN</td>\n",
       "      <td>NaN</td>\n",
       "      <td>G</td>\n",
       "      <td>NaN</td>\n",
       "    </tr>\n",
       "    <tr>\n",
       "      <th>4</th>\n",
       "      <td>4</td>\n",
       "      <td>Social and Economic Factors</td>\n",
       "      <td>Education</td>\n",
       "      <td>College graduation or more</td>\n",
       "      <td>2017</td>\n",
       "      <td>City</td>\n",
       "      <td>Chicago</td>\n",
       "      <td>606</td>\n",
       "      <td>Race-ethnicity</td>\n",
       "      <td>Asian</td>\n",
       "      <td>...</td>\n",
       "      <td>62.9</td>\n",
       "      <td>NaN</td>\n",
       "      <td>NaN</td>\n",
       "      <td>NaN</td>\n",
       "      <td>NaN</td>\n",
       "      <td>NaN</td>\n",
       "      <td>NaN</td>\n",
       "      <td>NaN</td>\n",
       "      <td>G</td>\n",
       "      <td>NaN</td>\n",
       "    </tr>\n",
       "    <tr>\n",
       "      <th>5</th>\n",
       "      <td>5</td>\n",
       "      <td>Social and Economic Factors</td>\n",
       "      <td>Education</td>\n",
       "      <td>College graduation or more</td>\n",
       "      <td>2017</td>\n",
       "      <td>City</td>\n",
       "      <td>Chicago</td>\n",
       "      <td>606</td>\n",
       "      <td>Race-ethnicity</td>\n",
       "      <td>Hispanic or Latino</td>\n",
       "      <td>...</td>\n",
       "      <td>16.0</td>\n",
       "      <td>NaN</td>\n",
       "      <td>NaN</td>\n",
       "      <td>NaN</td>\n",
       "      <td>NaN</td>\n",
       "      <td>NaN</td>\n",
       "      <td>NaN</td>\n",
       "      <td>NaN</td>\n",
       "      <td>G</td>\n",
       "      <td>NaN</td>\n",
       "    </tr>\n",
       "    <tr>\n",
       "      <th>6</th>\n",
       "      <td>6</td>\n",
       "      <td>Social and Economic Factors</td>\n",
       "      <td>Education</td>\n",
       "      <td>College graduation or more</td>\n",
       "      <td>2017</td>\n",
       "      <td>City</td>\n",
       "      <td>Chicago</td>\n",
       "      <td>606</td>\n",
       "      <td>Race-ethnicity</td>\n",
       "      <td>Non-Hispanic White</td>\n",
       "      <td>...</td>\n",
       "      <td>62.6</td>\n",
       "      <td>NaN</td>\n",
       "      <td>NaN</td>\n",
       "      <td>NaN</td>\n",
       "      <td>NaN</td>\n",
       "      <td>NaN</td>\n",
       "      <td>NaN</td>\n",
       "      <td>NaN</td>\n",
       "      <td>G</td>\n",
       "      <td>NaN</td>\n",
       "    </tr>\n",
       "  </tbody>\n",
       "</table>\n",
       "<p>7 rows × 29 columns</p>\n",
       "</div>"
      ],
      "text/plain": [
       "   Unnamed: 0                     Category SubCategory  \\\n",
       "0           0  Social and Economic Factors   Education   \n",
       "1           1  Social and Economic Factors   Education   \n",
       "2           2  Social and Economic Factors   Education   \n",
       "3           3  Social and Economic Factors   Education   \n",
       "4           4  Social and Economic Factors   Education   \n",
       "5           5  Social and Economic Factors   Education   \n",
       "6           6  Social and Economic Factors   Education   \n",
       "\n",
       "                    Indicator  Year Geography Geo_Group  Geo_ID  \\\n",
       "0  College graduation or more  2017      City   Chicago     606   \n",
       "1  College graduation or more  2017      City   Chicago     606   \n",
       "2  College graduation or more  2017      City   Chicago     606   \n",
       "3  College graduation or more  2017      City   Chicago     606   \n",
       "4  College graduation or more  2017      City   Chicago     606   \n",
       "5  College graduation or more  2017      City   Chicago     606   \n",
       "6  College graduation or more  2017      City   Chicago     606   \n",
       "\n",
       "       Demography                 Demo_Group  ...  Percent  \\\n",
       "0  Race-ethnicity       All race-ethnicities  ...     38.8   \n",
       "1          Gender                       Male  ...     37.6   \n",
       "2          Gender                     Female  ...     39.9   \n",
       "3  Race-ethnicity  African American or Black  ...     21.1   \n",
       "4  Race-ethnicity                     Asian   ...     62.9   \n",
       "5  Race-ethnicity         Hispanic or Latino  ...     16.0   \n",
       "6  Race-ethnicity         Non-Hispanic White  ...     62.6   \n",
       "\n",
       "   Lower_95CI_Percent  Upper_95CI_Percent  Weight_Number  Weight_Percent  \\\n",
       "0                 NaN                 NaN            NaN             NaN   \n",
       "1                 NaN                 NaN            NaN             NaN   \n",
       "2                 NaN                 NaN            NaN             NaN   \n",
       "3                 NaN                 NaN            NaN             NaN   \n",
       "4                 NaN                 NaN            NaN             NaN   \n",
       "5                 NaN                 NaN            NaN             NaN   \n",
       "6                 NaN                 NaN            NaN             NaN   \n",
       "\n",
       "   Lower_95CI_Weight_Percent  Upper_95CI_Weight_Percent  Map_Key  Flag  \\\n",
       "0                        NaN                        NaN      NaN     G   \n",
       "1                        NaN                        NaN      NaN     G   \n",
       "2                        NaN                        NaN      NaN     G   \n",
       "3                        NaN                        NaN      NaN     G   \n",
       "4                        NaN                        NaN      NaN     G   \n",
       "5                        NaN                        NaN      NaN     G   \n",
       "6                        NaN                        NaN      NaN     G   \n",
       "\n",
       "   Crude_Rate_Standardized  \n",
       "0                      NaN  \n",
       "1                      NaN  \n",
       "2                      NaN  \n",
       "3                      NaN  \n",
       "4                      NaN  \n",
       "5                      NaN  \n",
       "6                      NaN  \n",
       "\n",
       "[7 rows x 29 columns]"
      ]
     },
     "execution_count": 142,
     "metadata": {},
     "output_type": "execute_result"
    }
   ],
   "source": [
    "df"
   ]
  },
  {
   "cell_type": "code",
   "execution_count": 143,
   "metadata": {},
   "outputs": [
    {
     "data": {
      "text/plain": [
       "Index(['Unnamed: 0', 'Category', 'SubCategory', 'Indicator', 'Year',\n",
       "       'Geography', 'Geo_Group', 'Geo_ID', 'Demography', 'Demo_Group',\n",
       "       'Number', 'Cum_Number', 'Ave_Annual_Number', 'Crude_Rate',\n",
       "       'Lower_95CI_Crude_Rate', 'Upper_95CI_Crude_Rate', 'Age_Adj_Rate',\n",
       "       'Lower_95CI_Age_Adj_Rate', 'Upper_95CI_Age_Adj_Rate', 'Percent',\n",
       "       'Lower_95CI_Percent', 'Upper_95CI_Percent', 'Weight_Number',\n",
       "       'Weight_Percent', 'Lower_95CI_Weight_Percent',\n",
       "       'Upper_95CI_Weight_Percent', 'Map_Key', 'Flag',\n",
       "       'Crude_Rate_Standardized'],\n",
       "      dtype='object')"
      ]
     },
     "execution_count": 143,
     "metadata": {},
     "output_type": "execute_result"
    }
   ],
   "source": [
    "df.columns"
   ]
  },
  {
   "cell_type": "code",
   "execution_count": 144,
   "metadata": {},
   "outputs": [
    {
     "name": "stdout",
     "output_type": "stream",
     "text": [
      "All race-ethnicities 38.8\n"
     ]
    }
   ],
   "source": [
    "print(df['Demo_Group'][0], df['Percent'][0])"
   ]
  },
  {
   "cell_type": "code",
   "execution_count": 145,
   "metadata": {},
   "outputs": [
    {
     "name": "stdout",
     "output_type": "stream",
     "text": [
      "All race-ethnicities 38.8\n",
      "Male 37.6\n",
      "Female 39.9\n",
      "African American or Black 21.1\n",
      "Asian  62.9\n",
      "Hispanic or Latino 16.0\n",
      "Non-Hispanic White 62.6\n"
     ]
    }
   ],
   "source": [
    "for i in range(len(df)):\n",
    "    print(df['Demo_Group'][i], df['Percent'][i])"
   ]
  },
  {
   "cell_type": "code",
   "execution_count": 146,
   "metadata": {},
   "outputs": [],
   "source": [
    "def gen_demog_perc(my_df):\n",
    "    for i in range(len(my_df)):\n",
    "        yield(df['Demo_Group'][i], df['Percent'][i])\n",
    "\n",
    "get_demog_perc = gen_demog_perc(df)"
   ]
  },
  {
   "cell_type": "code",
   "execution_count": 149,
   "metadata": {},
   "outputs": [
    {
     "data": {
      "text/plain": [
       "('Female', 39.9)"
      ]
     },
     "execution_count": 149,
     "metadata": {},
     "output_type": "execute_result"
    }
   ],
   "source": [
    "next(get_demog_perc)"
   ]
  },
  {
   "cell_type": "markdown",
   "metadata": {},
   "source": [
    "# Assert Statements"
   ]
  },
  {
   "cell_type": "code",
   "execution_count": 150,
   "metadata": {},
   "outputs": [
    {
     "data": {
      "text/plain": [
       "0    38.8\n",
       "1    37.6\n",
       "2    39.9\n",
       "3    21.1\n",
       "4    62.9\n",
       "5    16.0\n",
       "6    62.6\n",
       "Name: Percent, dtype: float64"
      ]
     },
     "execution_count": 150,
     "metadata": {},
     "output_type": "execute_result"
    }
   ],
   "source": [
    "df['Percent']"
   ]
  },
  {
   "cell_type": "code",
   "execution_count": 154,
   "metadata": {},
   "outputs": [],
   "source": [
    "x = 20.0\n",
    "assert(x <=100 and isinstance(x, float)), 'incorect value in Percent column'"
   ]
  },
  {
   "cell_type": "code",
   "execution_count": 155,
   "metadata": {},
   "outputs": [],
   "source": [
    "def eval_percent(my_serise):\n",
    "    #check input is what I expect\n",
    "    for x in my_serise:\n",
    "        assert(x <=100 and isinstance(x, float)), 'incorect value in Percent column' \n",
    "    #then do a thing\n",
    "    for x in my_serise:\n",
    "        print(x)\n",
    "   "
   ]
  },
  {
   "cell_type": "code",
   "execution_count": 156,
   "metadata": {},
   "outputs": [
    {
     "name": "stdout",
     "output_type": "stream",
     "text": [
      "38.8\n",
      "37.6\n",
      "39.9\n",
      "21.1\n",
      "62.9\n",
      "16.0\n",
      "62.6\n"
     ]
    }
   ],
   "source": [
    "eval_percent(df['Percent'])"
   ]
  },
  {
   "cell_type": "code",
   "execution_count": 157,
   "metadata": {},
   "outputs": [
    {
     "ename": "TypeError",
     "evalue": "'<=' not supported between instances of 'str' and 'int'",
     "output_type": "error",
     "traceback": [
      "\u001b[0;31m---------------------------------------------------------------------------\u001b[0m",
      "\u001b[0;31mTypeError\u001b[0m                                 Traceback (most recent call last)",
      "\u001b[0;32m<ipython-input-157-d7e9a9f00960>\u001b[0m in \u001b[0;36m<module>\u001b[0;34m\u001b[0m\n\u001b[0;32m----> 1\u001b[0;31m \u001b[0meval_percent\u001b[0m\u001b[0;34m(\u001b[0m\u001b[0;34m[\u001b[0m\u001b[0;34m'hi'\u001b[0m\u001b[0;34m,\u001b[0m\u001b[0;34m'by'\u001b[0m\u001b[0;34m,\u001b[0m\u001b[0;34m'why'\u001b[0m\u001b[0;34m]\u001b[0m\u001b[0;34m)\u001b[0m\u001b[0;34m\u001b[0m\u001b[0;34m\u001b[0m\u001b[0m\n\u001b[0m",
      "\u001b[0;32m<ipython-input-155-052eff49a13b>\u001b[0m in \u001b[0;36meval_percent\u001b[0;34m(my_serise)\u001b[0m\n\u001b[1;32m      2\u001b[0m     \u001b[0;31m#check input is what I expect\u001b[0m\u001b[0;34m\u001b[0m\u001b[0;34m\u001b[0m\u001b[0;34m\u001b[0m\u001b[0m\n\u001b[1;32m      3\u001b[0m     \u001b[0;32mfor\u001b[0m \u001b[0mx\u001b[0m \u001b[0;32min\u001b[0m \u001b[0mmy_serise\u001b[0m\u001b[0;34m:\u001b[0m\u001b[0;34m\u001b[0m\u001b[0;34m\u001b[0m\u001b[0m\n\u001b[0;32m----> 4\u001b[0;31m         \u001b[0;32massert\u001b[0m\u001b[0;34m(\u001b[0m\u001b[0mx\u001b[0m \u001b[0;34m<=\u001b[0m\u001b[0;36m100\u001b[0m \u001b[0;32mand\u001b[0m \u001b[0misinstance\u001b[0m\u001b[0;34m(\u001b[0m\u001b[0mx\u001b[0m\u001b[0;34m,\u001b[0m \u001b[0mfloat\u001b[0m\u001b[0;34m)\u001b[0m\u001b[0;34m)\u001b[0m\u001b[0;34m,\u001b[0m \u001b[0;34m'incorect value in Percent column'\u001b[0m\u001b[0;34m\u001b[0m\u001b[0;34m\u001b[0m\u001b[0m\n\u001b[0m\u001b[1;32m      5\u001b[0m     \u001b[0;31m#then do a thing\u001b[0m\u001b[0;34m\u001b[0m\u001b[0;34m\u001b[0m\u001b[0;34m\u001b[0m\u001b[0m\n\u001b[1;32m      6\u001b[0m     \u001b[0;32mfor\u001b[0m \u001b[0mx\u001b[0m \u001b[0;32min\u001b[0m \u001b[0mmy_serise\u001b[0m\u001b[0;34m:\u001b[0m\u001b[0;34m\u001b[0m\u001b[0;34m\u001b[0m\u001b[0m\n",
      "\u001b[0;31mTypeError\u001b[0m: '<=' not supported between instances of 'str' and 'int'"
     ]
    }
   ],
   "source": [
    "eval_percent(['hi','by','why'])"
   ]
  },
  {
   "cell_type": "code",
   "execution_count": null,
   "metadata": {},
   "outputs": [],
   "source": []
  }
 ],
 "metadata": {
  "kernelspec": {
   "display_name": "Python 3",
   "language": "python",
   "name": "python3"
  },
  "language_info": {
   "codemirror_mode": {
    "name": "ipython",
    "version": 3
   },
   "file_extension": ".py",
   "mimetype": "text/x-python",
   "name": "python",
   "nbconvert_exporter": "python",
   "pygments_lexer": "ipython3",
   "version": "3.7.1"
  }
 },
 "nbformat": 4,
 "nbformat_minor": 2
}
