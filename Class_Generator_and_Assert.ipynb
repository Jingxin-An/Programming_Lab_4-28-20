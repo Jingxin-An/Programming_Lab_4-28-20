{
 "cells": [
  {
   "cell_type": "markdown",
   "metadata": {},
   "source": [
    "# Optional Activity\n",
    "#### Make a dice roller\n",
    "Make a function that takes as input a integer for how many sides the dice has (e.g. a normal dice has 6 sides so input should be 6)\n",
    "output should be an integer between 1 and the number of sides entered (so for input 6, 1-6) \n",
    "ideally this roller should be fair, so each number has equal probability, but that isn't neccesary\n",
    "For extra add an assert statement to make sure input is an integer"
   ]
  },
  {
   "cell_type": "markdown",
   "metadata": {},
   "source": [
    "# Python Style\n",
    "Pep8:  \n",
    "Check it out\n",
    "https://www.python.org/dev/peps/pep-0008/ "
   ]
  },
  {
   "cell_type": "markdown",
   "metadata": {},
   "source": [
    "# A bit more on Classes and Inheritance"
   ]
  },
  {
   "cell_type": "code",
   "execution_count": null,
   "metadata": {},
   "outputs": [],
   "source": [
    "class Person(): \n",
    "       \n",
    "    # Constructor \n",
    "    def __init__(self, name, pronoun, food, location, pet = None): \n",
    "        self.name = name \n",
    "        self.pronoun = pronoun\n",
    "        self.food = food\n",
    "        self.location = location\n",
    "        self.pet = pet\n",
    "    \n",
    "    def __repr__(self):\n",
    "        '''\n",
    "        Representation of the class\n",
    "        '''  \n",
    "        string = \"This is {}, {} favorite food is {} and {} lives in {}\".format(self.name, self.pronoun[1], self.food, self.pronoun[0], self.location)\n",
    "        return string\n",
    "   \n",
    "    def calc_rent(self, base_rent, location, pet_fee):\n",
    "        total_cost = base_rent\n",
    "        total_cost += location\n",
    "        if self.pet:\n",
    "            total_cost += pet_fee\n",
    "        return total_cost\n",
    "\n"
   ]
  },
  {
   "cell_type": "code",
   "execution_count": null,
   "metadata": {},
   "outputs": [],
   "source": [
    "person1 = Person('Kim', ['she','her'], 'pasta', 'LA')  # An Object of Person \n",
    "person1"
   ]
  },
  {
   "cell_type": "code",
   "execution_count": null,
   "metadata": {},
   "outputs": [],
   "source": [
    "person1.calc_rent(1000,750,100)"
   ]
  },
  {
   "cell_type": "code",
   "execution_count": null,
   "metadata": {},
   "outputs": [],
   "source": [
    "person2 = Person('Kelly', ['he','his'], 'guacamole', 'DC', 'cat')\n",
    "person2"
   ]
  },
  {
   "cell_type": "code",
   "execution_count": null,
   "metadata": {},
   "outputs": [],
   "source": [
    "person2.calc_rent(1000,500,50)"
   ]
  },
  {
   "cell_type": "code",
   "execution_count": null,
   "metadata": {},
   "outputs": [],
   "source": [
    " class Employee(Person): \n",
    "    def __init__(self, name, pronoun, food, location, emp_status, pet = None): \n",
    "        self.name = name \n",
    "        self.pronoun = pronoun\n",
    "        self.food = food\n",
    "        self.location = location\n",
    "        self.emp_status = emp_status\n",
    "        self.pet = pet\n",
    "        \n",
    "    def __repr__(self):\n",
    "        '''\n",
    "        Representation of the class\n",
    "        '''  \n",
    "        string = \"{} is {} with this firm\".format(self.name, self.emp_status)\n",
    "        return string\n",
    " \n",
    "    def calc_salary(self, base, bonus): \n",
    "        salary = base\n",
    "        salary += bonus\n",
    "        return salary\n",
    "   "
   ]
  },
  {
   "cell_type": "code",
   "execution_count": null,
   "metadata": {},
   "outputs": [],
   "source": [
    "emp1 = Employee('Kim', ['she','her'], 'pasta', 'LA', 'employed') # An Object of Employee \n",
    "emp1"
   ]
  },
  {
   "cell_type": "code",
   "execution_count": null,
   "metadata": {},
   "outputs": [],
   "source": [
    "emp1.calc_salary(80000,500)"
   ]
  },
  {
   "cell_type": "code",
   "execution_count": null,
   "metadata": {},
   "outputs": [],
   "source": [
    "emp1.calc_rent(1000,10,10)"
   ]
  },
  {
   "cell_type": "code",
   "execution_count": null,
   "metadata": {},
   "outputs": [],
   "source": [
    "#what's left:\n",
    "salary = emp1.calc_salary(80000,500)\n",
    "rent = emp1.calc_rent(1000,10,10) *12\n",
    "\n",
    "salary - rent"
   ]
  },
  {
   "cell_type": "code",
   "execution_count": null,
   "metadata": {},
   "outputs": [],
   "source": [
    "salad1 = Salad('lettuce', 'beets', 'chicken')\n",
    "salad1.base  #tells us the base: lettuce #accessing base of the salad"
   ]
  },
  {
   "cell_type": "code",
   "execution_count": null,
   "metadata": {},
   "outputs": [],
   "source": [
    "salad1"
   ]
  },
  {
   "cell_type": "code",
   "execution_count": null,
   "metadata": {},
   "outputs": [],
   "source": [
    "salad1.calc_cost(10, 1, 15) #each one is a cost for each part"
   ]
  },
  {
   "cell_type": "code",
   "execution_count": null,
   "metadata": {},
   "outputs": [],
   "source": [
    "class Soup:\n",
    "    '''\n",
    "    Class to rep a soup\n",
    "    '''\n",
    "    def __init__(self, stock, stuff): #to initialize my salad\n",
    "        '''\n",
    "        Initializer of my salad\n",
    "        Inputs:\n",
    "            base: str, 'lettuce or spinich' str\n",
    "            vegetables: [vegetables]\n",
    "            protein: str, 'chicen, beaf, salmon, tofu'\n",
    "            None here means that if I don't specify protine no porblem: keward argument\n",
    "        '''\n",
    "        self.stock = stock\n",
    "        self.stuff = stuff\n",
    "\n",
    "    def __repr__(self):\n",
    "        '''\n",
    "        Representation of soup, called when we want to print something\n",
    "        '''\n",
    "        string = \"{} soup, with {}\".format(self.stock, self.stuff)\n",
    "        return string\n",
    "\n",
    "    def calc_cost(self, stock_cost, cost_per_add):\n",
    "        total_cost = stock_cost\n",
    "        for thing in self.stuff:\n",
    "            total_cost += cost_per_add\n",
    "        return total_cost\n"
   ]
  },
  {
   "cell_type": "markdown",
   "metadata": {},
   "source": [
    "# Generator\n",
    "\n",
    "Super interested? Check out a more throughout explanation here:\n",
    "https://www.dataquest.io/blog/python-generators-tutorial/ \n",
    "\n",
    "The data is from the Chicago Health Atlas\n",
    "https://www.chicagohealthatlas.org/indicators/college-graduation-or-more"
   ]
  },
  {
   "cell_type": "code",
   "execution_count": null,
   "metadata": {},
   "outputs": [],
   "source": [
    "#Code\n",
    "import pandas as pd\n",
    "import os\n",
    "\n",
    "PATH = 'Documents/GitHub/Programming_Lab_4-28-20/'\n",
    "FILE = 'city_wide_coll_grad_2017.csv'\n",
    "\n",
    "def read_data(path, filename):\n",
    "    if filename.endswith('.csv'):\n",
    "        df = pd.read_csv(os.path.join(path, filename))\n",
    "    elif filename.endswith('.xls') or filename.endswith('.xlsx'):\n",
    "        df = pd.read_excel(os.path.join(path, filename))\n",
    "    else:\n",
    "        print('unexpected file type in read_data')\n",
    "    return df\n",
    "\n",
    "\n",
    "df = read_data(PATH, FILE)"
   ]
  },
  {
   "cell_type": "code",
   "execution_count": null,
   "metadata": {},
   "outputs": [],
   "source": [
    "df"
   ]
  },
  {
   "cell_type": "code",
   "execution_count": null,
   "metadata": {},
   "outputs": [],
   "source": [
    "df.columns"
   ]
  },
  {
   "cell_type": "code",
   "execution_count": null,
   "metadata": {},
   "outputs": [],
   "source": [
    "print(df['Demo_Group'][0], df['Percent'][0])"
   ]
  },
  {
   "cell_type": "code",
   "execution_count": null,
   "metadata": {},
   "outputs": [],
   "source": [
    "for i in range(len(df)):\n",
    "    print(df['Demo_Group'][i], df['Percent'][i])"
   ]
  },
  {
   "cell_type": "code",
   "execution_count": null,
   "metadata": {},
   "outputs": [],
   "source": [
    "def gen_demog_perc(my_df):\n",
    "    for i in range(len(my_df)):\n",
    "        yield(df['Demo_Group'][i], df['Percent'][i])\n",
    "\n",
    "get_demog_perc = gen_demog_perc(df)"
   ]
  },
  {
   "cell_type": "code",
   "execution_count": null,
   "metadata": {},
   "outputs": [],
   "source": [
    "next(get_demog_perc)"
   ]
  },
  {
   "cell_type": "markdown",
   "metadata": {},
   "source": [
    "# Assert Statements"
   ]
  },
  {
   "cell_type": "code",
   "execution_count": null,
   "metadata": {},
   "outputs": [],
   "source": [
    "df['Percent']"
   ]
  },
  {
   "cell_type": "code",
   "execution_count": null,
   "metadata": {},
   "outputs": [],
   "source": [
    "x = 20.0\n",
    "assert(x <100 and isinstance(x, float)), 'incorect value in Percent column'"
   ]
  },
  {
   "cell_type": "code",
   "execution_count": null,
   "metadata": {},
   "outputs": [],
   "source": [
    "def eval_percent(my_serise):\n",
    "    #check input is what I expect\n",
    "    for x in my_serise:\n",
    "        assert(x <100 and isinstance(x, float)), 'incorect value in Percent column' \n",
    "    #then do a thing\n",
    "    for x in my_serise:\n",
    "        print(x)\n",
    "   "
   ]
  },
  {
   "cell_type": "code",
   "execution_count": null,
   "metadata": {},
   "outputs": [],
   "source": [
    "eval_percent(df['Percent'])"
   ]
  },
  {
   "cell_type": "code",
   "execution_count": null,
   "metadata": {},
   "outputs": [],
   "source": []
  }
 ],
 "metadata": {
  "kernelspec": {
   "display_name": "Python 3",
   "language": "python",
   "name": "python3"
  },
  "language_info": {
   "codemirror_mode": {
    "name": "ipython",
    "version": 3
   },
   "file_extension": ".py",
   "mimetype": "text/x-python",
   "name": "python",
   "nbconvert_exporter": "python",
   "pygments_lexer": "ipython3",
   "version": "3.7.1"
  }
 },
 "nbformat": 4,
 "nbformat_minor": 2
}
