{
 "cells": [
  {
   "cell_type": "markdown",
   "metadata": {},
   "source": [
    "# Optional Activity\n",
    "### Description"
   ]
  },
  {
   "cell_type": "code",
   "execution_count": null,
   "metadata": {},
   "outputs": [],
   "source": [
    "#sample of optional activity?"
   ]
  },
  {
   "cell_type": "markdown",
   "metadata": {},
   "source": [
    "# Class Inheritance"
   ]
  },
  {
   "cell_type": "code",
   "execution_count": null,
   "metadata": {},
   "outputs": [],
   "source": [
    "#Soup, Salad and Order?\n",
    "\n",
    "#Class\n",
    "class Salad:\n",
    "    '''\n",
    "    Class to rep a salad\n",
    "    '''\n",
    "    def __init__(self, base, vegetables, protein = None): #to initialize my salad\n",
    "        '''\n",
    "        Initializer of my salad\n",
    "        Inputs:\n",
    "            base: str, 'lettuce or spinich' str\n",
    "            vegetables: [vegetables]\n",
    "            protein: str, 'chicen, beaf, salmon, tofu'\n",
    "            None here means that if I don't specify protine no porblem: keward argument\n",
    "        '''\n",
    "        self.base = base\n",
    "        self.vegetables = vegetables\n",
    "        self.protein = protein\n",
    "\n",
    "    def __repr__(self):\n",
    "        '''\n",
    "        Representation of salad, called when we want to print something\n",
    "        '''\n",
    "        string = \"{} salad, with these vegetables: {}\".format(self.base, self.vegetables)\n",
    "        string += \"and this protein: {}\".format(self.protein)\n",
    "        return string\n",
    "\n",
    "    def calc_cost(self, base_cost, cost_per_veggie, cost_of_protein):\n",
    "        total_cost = base_cost\n",
    "        for veggie in self.vegetables:\n",
    "            total_cost += cost_per_veggie\n",
    "        if self.protein:\n",
    "            total_cost += cost_of_protein\n",
    "        return total_cost\n",
    "\n",
    "    def add_vegetable(self, vegetable):\n",
    "        '''\n",
    "        Method to add a vegetable\n",
    "        '''\n",
    "        self.vegetables.append(vegetable)\n",
    "        return self.vegetables\n",
    "\n",
    "\n",
    "salad1 = Salad('lettuce', ['corn', 'broccoly'], 'chicken')\n",
    "salad1.base  #tells us the base: lettuce #accessing base of the salad\n",
    "\n",
    "salad1 #yup its there\n",
    "    #main point can get the cost\n",
    "salad1.calc_cost(10, 1, 15) #each one is a cost for each part\n",
    "\n",
    "salad_veggie = Salad('lettuce', ['carrot', 'beans'])\n",
    "salad_veggie.calc_cost(10, 2, 8) #8 not used bc no protien\n",
    "\n",
    "salad_veggie.vegetables\n",
    "#list of 2\n",
    "salad_veggie.add_vegetable('Onion')\n",
    "salad_veggie.vegetables\n",
    "#lst of 3\n",
    "\n",
    "#can create methods to do all kinds of stuff!\n",
    "\n",
    "\n",
    "#self means that calc cost will be done on whatever x. is\n",
    "#(the differetn inputs)"
   ]
  },
  {
   "cell_type": "markdown",
   "metadata": {},
   "source": [
    "# Generator\n",
    "\n",
    "Super interested? Check out a more throughout explanation here:\n",
    "https://www.dataquest.io/blog/python-generators-tutorial/ \n",
    "\n",
    "The data is from the Chicago Health Atlas\n",
    "https://www.chicagohealthatlas.org/indicators/college-graduation-or-more"
   ]
  },
  {
   "cell_type": "code",
   "execution_count": 4,
   "metadata": {},
   "outputs": [],
   "source": [
    "#Code\n",
    "import pandas as pd\n",
    "import os\n",
    "\n",
    "PATH = 'Documents/GitHub/Programming_Lab_4-28-20/'\n",
    "FILE = 'city_wide_coll_grad_2017.csv'\n",
    "\n",
    "def read_data(path, filename):\n",
    "    if filename.endswith('.csv'):\n",
    "        df = pd.read_csv(os.path.join(path, filename))\n",
    "    elif filename.endswith('.xls') or filename.endswith('.xlsx'):\n",
    "        df = pd.read_excel(os.path.join(path, filename))\n",
    "    else:\n",
    "        print('unexpected file type in read_data')\n",
    "    return df\n",
    "\n",
    "\n",
    "df = read_data(PATH, FILE)"
   ]
  },
  {
   "cell_type": "code",
   "execution_count": 5,
   "metadata": {},
   "outputs": [
    {
     "data": {
      "text/html": [
       "<div>\n",
       "<style scoped>\n",
       "    .dataframe tbody tr th:only-of-type {\n",
       "        vertical-align: middle;\n",
       "    }\n",
       "\n",
       "    .dataframe tbody tr th {\n",
       "        vertical-align: top;\n",
       "    }\n",
       "\n",
       "    .dataframe thead th {\n",
       "        text-align: right;\n",
       "    }\n",
       "</style>\n",
       "<table border=\"1\" class=\"dataframe\">\n",
       "  <thead>\n",
       "    <tr style=\"text-align: right;\">\n",
       "      <th></th>\n",
       "      <th>Unnamed: 0</th>\n",
       "      <th>Category</th>\n",
       "      <th>SubCategory</th>\n",
       "      <th>Indicator</th>\n",
       "      <th>Year</th>\n",
       "      <th>Geography</th>\n",
       "      <th>Geo_Group</th>\n",
       "      <th>Geo_ID</th>\n",
       "      <th>Demography</th>\n",
       "      <th>Demo_Group</th>\n",
       "      <th>...</th>\n",
       "      <th>Percent</th>\n",
       "      <th>Lower_95CI_Percent</th>\n",
       "      <th>Upper_95CI_Percent</th>\n",
       "      <th>Weight_Number</th>\n",
       "      <th>Weight_Percent</th>\n",
       "      <th>Lower_95CI_Weight_Percent</th>\n",
       "      <th>Upper_95CI_Weight_Percent</th>\n",
       "      <th>Map_Key</th>\n",
       "      <th>Flag</th>\n",
       "      <th>Crude_Rate_Standardized</th>\n",
       "    </tr>\n",
       "  </thead>\n",
       "  <tbody>\n",
       "    <tr>\n",
       "      <th>0</th>\n",
       "      <td>0</td>\n",
       "      <td>Social and Economic Factors</td>\n",
       "      <td>Education</td>\n",
       "      <td>College graduation or more</td>\n",
       "      <td>2017</td>\n",
       "      <td>City</td>\n",
       "      <td>Chicago</td>\n",
       "      <td>606</td>\n",
       "      <td>Race-ethnicity</td>\n",
       "      <td>All race-ethnicities</td>\n",
       "      <td>...</td>\n",
       "      <td>38.8</td>\n",
       "      <td>NaN</td>\n",
       "      <td>NaN</td>\n",
       "      <td>NaN</td>\n",
       "      <td>NaN</td>\n",
       "      <td>NaN</td>\n",
       "      <td>NaN</td>\n",
       "      <td>NaN</td>\n",
       "      <td>G</td>\n",
       "      <td>NaN</td>\n",
       "    </tr>\n",
       "    <tr>\n",
       "      <th>1</th>\n",
       "      <td>1</td>\n",
       "      <td>Social and Economic Factors</td>\n",
       "      <td>Education</td>\n",
       "      <td>College graduation or more</td>\n",
       "      <td>2017</td>\n",
       "      <td>City</td>\n",
       "      <td>Chicago</td>\n",
       "      <td>606</td>\n",
       "      <td>Gender</td>\n",
       "      <td>Male</td>\n",
       "      <td>...</td>\n",
       "      <td>37.6</td>\n",
       "      <td>NaN</td>\n",
       "      <td>NaN</td>\n",
       "      <td>NaN</td>\n",
       "      <td>NaN</td>\n",
       "      <td>NaN</td>\n",
       "      <td>NaN</td>\n",
       "      <td>NaN</td>\n",
       "      <td>G</td>\n",
       "      <td>NaN</td>\n",
       "    </tr>\n",
       "    <tr>\n",
       "      <th>2</th>\n",
       "      <td>2</td>\n",
       "      <td>Social and Economic Factors</td>\n",
       "      <td>Education</td>\n",
       "      <td>College graduation or more</td>\n",
       "      <td>2017</td>\n",
       "      <td>City</td>\n",
       "      <td>Chicago</td>\n",
       "      <td>606</td>\n",
       "      <td>Gender</td>\n",
       "      <td>Female</td>\n",
       "      <td>...</td>\n",
       "      <td>39.9</td>\n",
       "      <td>NaN</td>\n",
       "      <td>NaN</td>\n",
       "      <td>NaN</td>\n",
       "      <td>NaN</td>\n",
       "      <td>NaN</td>\n",
       "      <td>NaN</td>\n",
       "      <td>NaN</td>\n",
       "      <td>G</td>\n",
       "      <td>NaN</td>\n",
       "    </tr>\n",
       "    <tr>\n",
       "      <th>3</th>\n",
       "      <td>3</td>\n",
       "      <td>Social and Economic Factors</td>\n",
       "      <td>Education</td>\n",
       "      <td>College graduation or more</td>\n",
       "      <td>2017</td>\n",
       "      <td>City</td>\n",
       "      <td>Chicago</td>\n",
       "      <td>606</td>\n",
       "      <td>Race-ethnicity</td>\n",
       "      <td>African American or Black</td>\n",
       "      <td>...</td>\n",
       "      <td>21.1</td>\n",
       "      <td>NaN</td>\n",
       "      <td>NaN</td>\n",
       "      <td>NaN</td>\n",
       "      <td>NaN</td>\n",
       "      <td>NaN</td>\n",
       "      <td>NaN</td>\n",
       "      <td>NaN</td>\n",
       "      <td>G</td>\n",
       "      <td>NaN</td>\n",
       "    </tr>\n",
       "    <tr>\n",
       "      <th>4</th>\n",
       "      <td>4</td>\n",
       "      <td>Social and Economic Factors</td>\n",
       "      <td>Education</td>\n",
       "      <td>College graduation or more</td>\n",
       "      <td>2017</td>\n",
       "      <td>City</td>\n",
       "      <td>Chicago</td>\n",
       "      <td>606</td>\n",
       "      <td>Race-ethnicity</td>\n",
       "      <td>Asian</td>\n",
       "      <td>...</td>\n",
       "      <td>62.9</td>\n",
       "      <td>NaN</td>\n",
       "      <td>NaN</td>\n",
       "      <td>NaN</td>\n",
       "      <td>NaN</td>\n",
       "      <td>NaN</td>\n",
       "      <td>NaN</td>\n",
       "      <td>NaN</td>\n",
       "      <td>G</td>\n",
       "      <td>NaN</td>\n",
       "    </tr>\n",
       "    <tr>\n",
       "      <th>5</th>\n",
       "      <td>5</td>\n",
       "      <td>Social and Economic Factors</td>\n",
       "      <td>Education</td>\n",
       "      <td>College graduation or more</td>\n",
       "      <td>2017</td>\n",
       "      <td>City</td>\n",
       "      <td>Chicago</td>\n",
       "      <td>606</td>\n",
       "      <td>Race-ethnicity</td>\n",
       "      <td>Hispanic or Latino</td>\n",
       "      <td>...</td>\n",
       "      <td>16.0</td>\n",
       "      <td>NaN</td>\n",
       "      <td>NaN</td>\n",
       "      <td>NaN</td>\n",
       "      <td>NaN</td>\n",
       "      <td>NaN</td>\n",
       "      <td>NaN</td>\n",
       "      <td>NaN</td>\n",
       "      <td>G</td>\n",
       "      <td>NaN</td>\n",
       "    </tr>\n",
       "    <tr>\n",
       "      <th>6</th>\n",
       "      <td>6</td>\n",
       "      <td>Social and Economic Factors</td>\n",
       "      <td>Education</td>\n",
       "      <td>College graduation or more</td>\n",
       "      <td>2017</td>\n",
       "      <td>City</td>\n",
       "      <td>Chicago</td>\n",
       "      <td>606</td>\n",
       "      <td>Race-ethnicity</td>\n",
       "      <td>Non-Hispanic White</td>\n",
       "      <td>...</td>\n",
       "      <td>62.6</td>\n",
       "      <td>NaN</td>\n",
       "      <td>NaN</td>\n",
       "      <td>NaN</td>\n",
       "      <td>NaN</td>\n",
       "      <td>NaN</td>\n",
       "      <td>NaN</td>\n",
       "      <td>NaN</td>\n",
       "      <td>G</td>\n",
       "      <td>NaN</td>\n",
       "    </tr>\n",
       "  </tbody>\n",
       "</table>\n",
       "<p>7 rows × 29 columns</p>\n",
       "</div>"
      ],
      "text/plain": [
       "   Unnamed: 0                     Category SubCategory  \\\n",
       "0           0  Social and Economic Factors   Education   \n",
       "1           1  Social and Economic Factors   Education   \n",
       "2           2  Social and Economic Factors   Education   \n",
       "3           3  Social and Economic Factors   Education   \n",
       "4           4  Social and Economic Factors   Education   \n",
       "5           5  Social and Economic Factors   Education   \n",
       "6           6  Social and Economic Factors   Education   \n",
       "\n",
       "                    Indicator  Year Geography Geo_Group  Geo_ID  \\\n",
       "0  College graduation or more  2017      City   Chicago     606   \n",
       "1  College graduation or more  2017      City   Chicago     606   \n",
       "2  College graduation or more  2017      City   Chicago     606   \n",
       "3  College graduation or more  2017      City   Chicago     606   \n",
       "4  College graduation or more  2017      City   Chicago     606   \n",
       "5  College graduation or more  2017      City   Chicago     606   \n",
       "6  College graduation or more  2017      City   Chicago     606   \n",
       "\n",
       "       Demography                 Demo_Group  ...  Percent  \\\n",
       "0  Race-ethnicity       All race-ethnicities  ...     38.8   \n",
       "1          Gender                       Male  ...     37.6   \n",
       "2          Gender                     Female  ...     39.9   \n",
       "3  Race-ethnicity  African American or Black  ...     21.1   \n",
       "4  Race-ethnicity                     Asian   ...     62.9   \n",
       "5  Race-ethnicity         Hispanic or Latino  ...     16.0   \n",
       "6  Race-ethnicity         Non-Hispanic White  ...     62.6   \n",
       "\n",
       "   Lower_95CI_Percent  Upper_95CI_Percent  Weight_Number  Weight_Percent  \\\n",
       "0                 NaN                 NaN            NaN             NaN   \n",
       "1                 NaN                 NaN            NaN             NaN   \n",
       "2                 NaN                 NaN            NaN             NaN   \n",
       "3                 NaN                 NaN            NaN             NaN   \n",
       "4                 NaN                 NaN            NaN             NaN   \n",
       "5                 NaN                 NaN            NaN             NaN   \n",
       "6                 NaN                 NaN            NaN             NaN   \n",
       "\n",
       "   Lower_95CI_Weight_Percent  Upper_95CI_Weight_Percent  Map_Key  Flag  \\\n",
       "0                        NaN                        NaN      NaN     G   \n",
       "1                        NaN                        NaN      NaN     G   \n",
       "2                        NaN                        NaN      NaN     G   \n",
       "3                        NaN                        NaN      NaN     G   \n",
       "4                        NaN                        NaN      NaN     G   \n",
       "5                        NaN                        NaN      NaN     G   \n",
       "6                        NaN                        NaN      NaN     G   \n",
       "\n",
       "   Crude_Rate_Standardized  \n",
       "0                      NaN  \n",
       "1                      NaN  \n",
       "2                      NaN  \n",
       "3                      NaN  \n",
       "4                      NaN  \n",
       "5                      NaN  \n",
       "6                      NaN  \n",
       "\n",
       "[7 rows x 29 columns]"
      ]
     },
     "execution_count": 5,
     "metadata": {},
     "output_type": "execute_result"
    }
   ],
   "source": [
    "df"
   ]
  },
  {
   "cell_type": "code",
   "execution_count": 6,
   "metadata": {},
   "outputs": [
    {
     "data": {
      "text/plain": [
       "Index(['Unnamed: 0', 'Category', 'SubCategory', 'Indicator', 'Year',\n",
       "       'Geography', 'Geo_Group', 'Geo_ID', 'Demography', 'Demo_Group',\n",
       "       'Number', 'Cum_Number', 'Ave_Annual_Number', 'Crude_Rate',\n",
       "       'Lower_95CI_Crude_Rate', 'Upper_95CI_Crude_Rate', 'Age_Adj_Rate',\n",
       "       'Lower_95CI_Age_Adj_Rate', 'Upper_95CI_Age_Adj_Rate', 'Percent',\n",
       "       'Lower_95CI_Percent', 'Upper_95CI_Percent', 'Weight_Number',\n",
       "       'Weight_Percent', 'Lower_95CI_Weight_Percent',\n",
       "       'Upper_95CI_Weight_Percent', 'Map_Key', 'Flag',\n",
       "       'Crude_Rate_Standardized'],\n",
       "      dtype='object')"
      ]
     },
     "execution_count": 6,
     "metadata": {},
     "output_type": "execute_result"
    }
   ],
   "source": [
    "df.columns"
   ]
  },
  {
   "cell_type": "code",
   "execution_count": 10,
   "metadata": {},
   "outputs": [
    {
     "name": "stdout",
     "output_type": "stream",
     "text": [
      "All race-ethnicities 38.8\n"
     ]
    }
   ],
   "source": [
    "print(df['Demo_Group'][0], df['Percent'][0])"
   ]
  },
  {
   "cell_type": "code",
   "execution_count": 22,
   "metadata": {},
   "outputs": [
    {
     "name": "stdout",
     "output_type": "stream",
     "text": [
      "All race-ethnicities 38.8\n",
      "Male 37.6\n",
      "Female 39.9\n",
      "African American or Black 21.1\n",
      "Asian  62.9\n",
      "Hispanic or Latino 16.0\n",
      "Non-Hispanic White 62.6\n"
     ]
    }
   ],
   "source": [
    "for i in range(len(df)):\n",
    "    print(df['Demo_Group'][i], df['Percent'][i])"
   ]
  },
  {
   "cell_type": "code",
   "execution_count": 28,
   "metadata": {},
   "outputs": [],
   "source": [
    "def gen_demog_perc(my_df):\n",
    "    for i in range(len(my_df)):\n",
    "        yield(df['Demo_Group'][i], df['Percent'][i])\n",
    "\n",
    "get_demog_perc = gen_demog_perc(df)"
   ]
  },
  {
   "cell_type": "code",
   "execution_count": 29,
   "metadata": {},
   "outputs": [
    {
     "data": {
      "text/plain": [
       "('All race-ethnicities', 38.8)"
      ]
     },
     "execution_count": 29,
     "metadata": {},
     "output_type": "execute_result"
    }
   ],
   "source": [
    "next(get_demog_perc)"
   ]
  },
  {
   "cell_type": "markdown",
   "metadata": {},
   "source": [
    "# Assert Statements"
   ]
  },
  {
   "cell_type": "code",
   "execution_count": 30,
   "metadata": {},
   "outputs": [
    {
     "data": {
      "text/plain": [
       "0    38.8\n",
       "1    37.6\n",
       "2    39.9\n",
       "3    21.1\n",
       "4    62.9\n",
       "5    16.0\n",
       "6    62.6\n",
       "Name: Percent, dtype: float64"
      ]
     },
     "execution_count": 30,
     "metadata": {},
     "output_type": "execute_result"
    }
   ],
   "source": [
    "df['Percent']"
   ]
  },
  {
   "cell_type": "code",
   "execution_count": 36,
   "metadata": {},
   "outputs": [],
   "source": [
    "x = 20.0\n",
    "assert(x <100 and isinstance(x, float)), 'incorect value in Percent column'"
   ]
  },
  {
   "cell_type": "code",
   "execution_count": 40,
   "metadata": {},
   "outputs": [],
   "source": [
    "def eval_percent(my_serise):\n",
    "    #check input is what I expect\n",
    "    for x in my_serise:\n",
    "        assert(x <100 and isinstance(x, float)), 'incorect value in Percent column' \n",
    "    #then do a thing\n",
    "    for x in my_serise:\n",
    "        print(x)\n",
    "   "
   ]
  },
  {
   "cell_type": "code",
   "execution_count": 41,
   "metadata": {},
   "outputs": [
    {
     "name": "stdout",
     "output_type": "stream",
     "text": [
      "38.8\n",
      "37.6\n",
      "39.9\n",
      "21.1\n",
      "62.9\n",
      "16.0\n",
      "62.6\n"
     ]
    }
   ],
   "source": [
    "eval_percent(df['Percent'])"
   ]
  },
  {
   "cell_type": "code",
   "execution_count": null,
   "metadata": {},
   "outputs": [],
   "source": []
  }
 ],
 "metadata": {
  "kernelspec": {
   "display_name": "Python 3",
   "language": "python",
   "name": "python3"
  },
  "language_info": {
   "codemirror_mode": {
    "name": "ipython",
    "version": 3
   },
   "file_extension": ".py",
   "mimetype": "text/x-python",
   "name": "python",
   "nbconvert_exporter": "python",
   "pygments_lexer": "ipython3",
   "version": "3.7.1"
  }
 },
 "nbformat": 4,
 "nbformat_minor": 2
}
